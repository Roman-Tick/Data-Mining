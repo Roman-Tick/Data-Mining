{
 "cells": [
  {
   "cell_type": "code",
   "execution_count": 12,
   "metadata": {},
   "outputs": [],
   "source": [
    "import pandas as pd\n",
    "import numpy as np\n",
    "import matplotlib.pyplot as plt\n",
    "%matplotlib inline\n",
    "import seaborn as sns\n",
    "\n",
    "raw_data = pd.read_csv(\"bennet.csv\")\n",
    "x = raw_data[['team', 'targeted_productivity', 'standard_minute_value', 'work_in_progress', \n",
    "              'over_time', 'incentive', 'idle_time', 'idle_men', 'no_of_style_change', 'no_of_workers']]   #.iloc[:,:-1]\n",
    "y = raw_data.iloc[:,-1]"
   ]
  },
  {
   "cell_type": "code",
   "execution_count": 13,
   "metadata": {
    "scrolled": false
   },
   "outputs": [
    {
     "name": "stdout",
     "output_type": "stream",
     "text": [
      "              precision    recall  f1-score   support\n",
      "\n",
      " 0.23 - 0.38       0.00      0.00      0.00        19\n",
      " 0.38 - 0.54       0.00      0.00      0.00        25\n",
      " 0.54 - 0.69       0.00      0.00      0.00        61\n",
      " 0.69 - 0.84       0.50      0.72      0.59       152\n",
      "    0.84 - 1       0.40      0.55      0.47       103\n",
      "\n",
      "    accuracy                           0.46       360\n",
      "   macro avg       0.18      0.25      0.21       360\n",
      "weighted avg       0.33      0.46      0.38       360\n",
      "\n"
     ]
    },
    {
     "name": "stderr",
     "output_type": "stream",
     "text": [
      "C:\\Users\\Ben\\anaconda3\\lib\\site-packages\\sklearn\\metrics\\_classification.py:1221: UndefinedMetricWarning: Precision and F-score are ill-defined and being set to 0.0 in labels with no predicted samples. Use `zero_division` parameter to control this behavior.\n",
      "  _warn_prf(average, modifier, msg_start, len(result))\n"
     ]
    }
   ],
   "source": [
    "from sklearn.model_selection import train_test_split\n",
    "x_training_data, x_test_data, y_training_data, y_test_data = train_test_split(x, y, test_size = 0.3)\n",
    "\n",
    "from sklearn.svm import SVC\n",
    "model = SVC()\n",
    "model.fit(x_training_data, y_training_data)\n",
    "predictions1 = model.predict(x_test_data)\n",
    "\n",
    "from sklearn.metrics import classification_report\n",
    "from sklearn.metrics import confusion_matrix\n",
    "print(classification_report(y_test_data, predictions1))\n",
    "\n",
    "#plot_decision_regions(x_training_data, y_training_data,clf=model, legend=2)\n",
    "\n",
    "# Update plot object with X/Y axis labels and Figure Title\n",
    "#plt.xlabel(X.columns[0], size=14)\n",
    "#plt.ylabel(X.columns[1], size=14)\n",
    "#plt.title('SVM Decision Region Boundary', size=16)\n",
    "#plt.show()\n",
    "\n",
    "#svcc = SVC(kernel='linear') #linear kernal\n",
    "#svcc.fit(x_training_data, y_training_data)\n",
    "#rbf_svc = SVC(kernel='rbf', gamma=0.7).fit(x_training_data, y_training_data)\n",
    "#poly_svc = SVC(kernel='poly', degree=3).fit(x_training_data, y_training_data)\n",
    "#lin_svc = svm.LinearSVC(C=C).fit(x_training_data, y_training_data)\n",
    "\n",
    "#predictions2 = svcc.predict(x_test_data)\n",
    "#predictions3 = rbf_svc.predict(x_test_data)\n",
    "#predictions4 = poly_svc.predict(x_test_data)\n",
    "\n",
    "#print(classification_report(y_test_data, predictions2))\n",
    "#print(classification_report(y_test_data, predictions3))\n",
    "#print(classification_report(y_test_data, predictions4))"
   ]
  },
  {
   "cell_type": "code",
   "execution_count": 11,
   "metadata": {},
   "outputs": [
    {
     "name": "stdout",
     "output_type": "stream",
     "text": [
      "[[  0   0   0  16   5]\n",
      " [  0   0   0  19   8]\n",
      " [  0   0   0  34  33]\n",
      " [  0   0   0 115  35]\n",
      " [  0   0   0  39  56]]\n"
     ]
    }
   ],
   "source": [
    "print(confusion_matrix(y_test_data, predictions1))\n"
   ]
  }
 ],
 "metadata": {
  "kernelspec": {
   "display_name": "Python 3",
   "language": "python",
   "name": "python3"
  },
  "language_info": {
   "codemirror_mode": {
    "name": "ipython",
    "version": 3
   },
   "file_extension": ".py",
   "mimetype": "text/x-python",
   "name": "python",
   "nbconvert_exporter": "python",
   "pygments_lexer": "ipython3",
   "version": "3.8.5"
  }
 },
 "nbformat": 4,
 "nbformat_minor": 4
}
